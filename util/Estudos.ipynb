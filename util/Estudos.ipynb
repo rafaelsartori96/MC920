{
 "cells": [
  {
   "cell_type": "markdown",
   "metadata": {},
   "source": [
    "# Equivalência entre máscaras"
   ]
  },
  {
   "cell_type": "code",
   "execution_count": 8,
   "metadata": {},
   "outputs": [
    {
     "name": "stdout",
     "output_type": "stream",
     "text": [
      "[[1]\n",
      " [4]\n",
      " [6]\n",
      " [4]\n",
      " [1]] [[1 4 6 4 1]]\n",
      "[[ 1  4  6  4  1]\n",
      " [ 4 16 24 16  4]\n",
      " [ 6 24 36 24  6]\n",
      " [ 4 16 24 16  4]\n",
      " [ 1  4  6  4  1]]\n"
     ]
    }
   ],
   "source": [
    "import numpy as np\n",
    "\n",
    "arr1 = np.array([1, 4, 6, 4, 1]).reshape(5, 1)\n",
    "arr2 = np.array([1, 4, 6, 4, 1]).reshape(1, 5)\n",
    "\n",
    "print(arr1, arr2)\n",
    "\n",
    "print(arr1 * arr2)"
   ]
  },
  {
   "cell_type": "markdown",
   "metadata": {},
   "source": [
    "# Hough Transform"
   ]
  },
  {
   "cell_type": "code",
   "execution_count": 25,
   "metadata": {},
   "outputs": [
    {
     "data": {
      "image/png": "[encoded data removed]",
      "text/plain": [
       "<Figure size 432x288 with 1 Axes>"
      ]
     },
     "metadata": {},
     "output_type": "display_data"
    },
    {
     "name": "stdout",
     "output_type": "stream",
     "text": [
      "x = 1.349438288710318 y = 6\n",
      "x = 2.698876577420636 y = 12\n",
      "x = -5.921039879673847 y = 6\n",
      "x = -11.842079759347694 y = 12\n",
      "x = 28.431996901562087 y = 6\n",
      "x = 56.863993803124174 y = 12\n",
      "x = 2.277741076920332 y = 6\n",
      "x = 4.555482153840664 y = 12\n"
     ]
    }
   ],
   "source": [
    "import numpy as np\n",
    "import matplotlib.pyplot as plt\n",
    "\n",
    "pontos = [(1, 3), (2, 6), (4, 12)]\n",
    "transformada = np.zeros((int(np.ceil(np.sqrt(4**2 + 12**2))) + 1, 181))\n",
    "\n",
    "for (x, y) in pontos:\n",
    "    # rho = x*cos(theta) + y*sin(theta)\n",
    "    for theta in range(0, 180):\n",
    "        theta_rad = theta * np.pi / 180\n",
    "        rho = int(np.rint(x * np.cos(theta_rad) + y * np.sin(theta_rad)))\n",
    "        transformada[rho][theta] += 1\n",
    "\n",
    "# plotamos\n",
    "plt.imshow(transformada, cmap='gray')\n",
    "plt.xticks([]), plt.yticks([])\n",
    "plt.show()\n",
    "\n",
    "for (rho, theta) in np.argwhere(transformada.max() == transformada):\n",
    "    # -x * cos(theta) = y * sin(theta) - rho\n",
    "    # x = - y * tan(theta) - rho\n",
    "    for y in [6, 12]:\n",
    "        print('x =', (-y * np.tan(theta) - rho), 'y =', y)"
   ]
  },
  {
   "cell_type": "markdown",
   "metadata": {},
   "source": [
    "Podemos notar que o último par foi bem sucedido em encontrar a reta representada pelos pontos."
   ]
  }
 ],
 "metadata": {
  "kernelspec": {
   "display_name": "Python 3",
   "language": "python",
   "name": "python3"
  },
  "language_info": {
   "codemirror_mode": {
    "name": "ipython",
    "version": 3
   },
   "file_extension": ".py",
   "mimetype": "text/x-python",
   "name": "python",
   "nbconvert_exporter": "python",
   "pygments_lexer": "ipython3",
   "version": "3.7.4"
  }
 },
 "nbformat": 4,
 "nbformat_minor": 2
}
