{
 "cells": [
  {
   "cell_type": "markdown",
   "metadata": {},
   "source": [
    "# MC920 - Trabalho 1\n",
    "\n",
    "Rafael Sartori M. Santos, 186154\n",
    "\n",
    "## Problema\n",
    "\n",
    "Aplicar técnicas de meios-tons com difusão de erros de forma a alterar os níveis de cinza das imagens dadas.\n",
    "\n",
    "## Organização\n",
    "\n",
    "* Trecho comum para lidar com imagem (funções auxiliares para salvar, mostrar imagens);\n",
    "* Código base para o problema atual;\n",
    "* Aplicações de filtros diferentes em todo conjunto de imagem;\n",
    "* Isolamento de partes da imagem para destaques.\n",
    "\n",
    "#### Observação:\n",
    "\n",
    "Para executar corretamente todos os programas, é necessário executar o código inicial comum a todas as soluções.\n",
    "\n",
    "## Soluções\n",
    "\n",
    "Utilizarei `numpy` para executar as transformações de forma otimizada, interface OpenCV (`cv2` para Python) para abrir e salvar imagens no formato desejado e bibliotecas padrão para outras funções auxiliares."
   ]
  },
  {
   "cell_type": "code",
   "execution_count": 1,
   "metadata": {},
   "outputs": [],
   "source": [
    "# Lemos o código auxiliar (definições de funções auxiliares para abrir, salvar e mostrar imagens)\n",
    "%run util/util.py"
   ]
  },
  {
   "cell_type": "markdown",
   "metadata": {},
   "source": [
    "### Método geral\n",
    "\n",
    "Para produzir meios-tons utilizando difusão de erro, fazemos:\n",
    "* Abrimos imagem dada\n",
    "* Conferimos se há filtro\n",
    "    * Se não houver, aplicamos a binarização simples de forma vetorizada, salvamos e retornamos\n",
    "    * Se houver, continuamos\n",
    "* Adicionamos _padding_ à imagem de entrada\n",
    "* Inicializamos uma imagem de saída de mesma dimensão que a original\n",
    "* Percorremos a imagem de forma zigue-zague (da esq. para dir. nas linhas pares, da dir. para esq. nas linhas ímpares)\n",
    "    * Fazemos binarização\n",
    "    * Aplicamos o filtro de difusão de erro de forma vetorizada\n",
    "\n",
    "Para realizar isso, criamos um _iterator_ que faz zigue-zague na imagem. Enquanto percorremos, definimos o nível de preto e branco na imagem final e somamos à imagem de entrada um filtro de difusão de erro multiplicado pelo erro na posição ajustada.\n",
    "\n",
    "Por exemplo, para o filtro Floyd-Steinberg (representado em matriz retangular, onde asterisco é a posição de aplicação), temos a matriz:\n",
    "```\n",
    "filtro = [[0, '*', 1/4],\n",
    "          [1/4, 1/4, 1/4]]\n",
    "```\n",
    "onde a posição de aplicação será o par ordenado da posição `(0, 1)` na matriz, que é substituído por `0` no filtro pois o ponto já foi calculado."
   ]
  },
  {
   "cell_type": "code",
   "execution_count": 2,
   "metadata": {},
   "outputs": [],
   "source": [
    "import time # para contar o tempo de execução de cada filtro\n",
    "\n",
    "class ZigueZague:\n",
    "    \"\"\"Anda crescentemente em linhas pares e decrescentemente em linhas ímpares.\"\"\"\n",
    "\n",
    "    def __init__(self, formato, filtro, inicio=(0, 0)):\n",
    "        self.linhas, self.colunas = formato\n",
    "        # Verificamos o início na imagem\n",
    "        y, x = inicio\n",
    "        if (x >= self.colunas or x < 0 or y >= self.linhas or y < 0):\n",
    "            raise ValueError('Posição inicial fora da imagem!')\n",
    "        # Inicializamos o resto\n",
    "        self.pos = inicio\n",
    "        self.funcao_next = self.first_next\n",
    "        self.filtro = filtro\n",
    "        self.filtro_inv = np.flip(filtro)\n",
    "    \n",
    "    def first_next(self):\n",
    "        y, x = self.pos\n",
    "        \n",
    "        # Conferimos se temos que iterar crescentemente\n",
    "        if y % 2 == 0:\n",
    "            self.funcao_next = self.crescente_next\n",
    "            filtro = self.filtro\n",
    "        else:\n",
    "            self.funcao_next = self.decrescente_next\n",
    "            filtro = self.filtro_inv\n",
    "        \n",
    "        # Retornamos a posição atual (sem atualizar, pois nunca havia sido mostrada)\n",
    "        return (self.pos, filtro)\n",
    "    \n",
    "    def crescente_next(self):\n",
    "        y, x = self.pos\n",
    "        \n",
    "        # Somamos uma posição (crescente)\n",
    "        x += 1\n",
    "        # Verificamos borda\n",
    "        if x >= self.colunas:\n",
    "            # Vamos à próxima linha\n",
    "            y += 1\n",
    "            \n",
    "            # Conferimos se a imagem acabou\n",
    "            if y >= self.linhas:\n",
    "                raise StopIteration()\n",
    "            \n",
    "            # Voltamos dentro da imagem\n",
    "            x = self.colunas - 1\n",
    "            # Alteramos função para decrescente\n",
    "            self.funcao_next = self.decrescente_next\n",
    "        \n",
    "        # Mostramos imagem atual\n",
    "        self.pos = (y, x)\n",
    "        return (self.pos, self.filtro)\n",
    "    \n",
    "    def decrescente_next(self):\n",
    "        (y, x) = self.pos\n",
    "        \n",
    "        # Subtraímos uma posição (decrescente)\n",
    "        x -= 1\n",
    "        # Verificamos borda\n",
    "        if x < 0:\n",
    "            # Vamos à próxima linha\n",
    "            y += 1\n",
    "            \n",
    "            # Conferimos se a imagem acabou\n",
    "            if y >= self.linhas:\n",
    "                raise StopIteration()\n",
    "            \n",
    "            # Voltamos dentro da imagem\n",
    "            x = 0\n",
    "            # Alteramos função para crescente\n",
    "            self.funcao_next = self.crescente_next\n",
    "        \n",
    "        # Mostramos imagem atual\n",
    "        self.pos = (y, x)\n",
    "        return (self.pos, self.filtro_inv)\n",
    "\n",
    "    def __iter__(self):\n",
    "        return self\n",
    "    \n",
    "    def __next__(self):\n",
    "        # Iteramos na função dada\n",
    "        return self.funcao_next()\n",
    "    \n",
    "    def is_decrescendo(self):\n",
    "        # Estamos decrescendo se a linha atual é ímpar\n",
    "        return (self.pos[0] % 2) == 1\n",
    "    \n",
    "    def get_pos(self):\n",
    "        return self.pos\n",
    "\n",
    "    \n",
    "def aplicar_halftoning(caminho_in, caminho_out, filtro=None):\n",
    "    \"\"\"Aplica halftoning na imagem colorida dada e salva em um caminho dado.\n",
    "    O filtro de disseminação de erro deve ser a tupla (filtro, (x do centro, y do centro))\n",
    "    onde centro é o local de aplicação\"\"\"\n",
    "    \n",
    "    # Carregamos a imagem de entrada\n",
    "    entradas = abrir_imagem(caminho_in)\n",
    "    # Salvamos o formato (consideramos que há pelo menos uma camada)\n",
    "    img_linhas, img_colunas = img_formato = entradas[0].shape\n",
    "    \n",
    "    # Definimos a função para finalizar a imagem\n",
    "    def finalizar(camadas):\n",
    "        # Juntamos o canal em uma imagem\n",
    "        saida = cv2.merge(camadas)\n",
    "\n",
    "        # Salvamos a imagem\n",
    "        salvar_imagem(caminho_out, saida)\n",
    "    \n",
    "    # Binarizamos a saída de forma simples se não há filtro\n",
    "    if filtro is None:\n",
    "        # Para cada camada (utilizamos entrada mesmo)\n",
    "        for camada in entradas:\n",
    "            # Os pixels maiores que 128 tornam-se 255\n",
    "            camada[camada >= 128] = 255\n",
    "            camada[camada < 128] = 0\n",
    "        \n",
    "        # Acabamos se não há filtro\n",
    "        finalizar(entradas)\n",
    "        return\n",
    "    \n",
    "    # Definimos padding padrão para o filtro\n",
    "    pad_y_top, pad_y_bot = (0, 0)\n",
    "    pad_x_left, pad_x_right = (0, 0)\n",
    "    \n",
    "    filtro_linhas, filtro_colunas = filtro_formato = (0, 0)\n",
    "    centro_y, centro_x = filtro_centro = (0, 0)\n",
    "    \n",
    "    # Verificamos se há filtro e analisamos para determinar padding e processar\n",
    "    if filtro is not None:\n",
    "        # Pegamos as informações necessárias\n",
    "        filtro, filtro_centro = filtro\n",
    "        filtro = np.array(filtro)\n",
    "        filtro_linhas, filtro_colunas = filtro_formato = filtro.shape\n",
    "        centro_y, centro_x = filtro_centro\n",
    "        \n",
    "        # Atualizamos o padding com o formato do filtro\n",
    "        pad_x_left, pad_x_right = (centro_x, filtro_colunas - centro_x - 1)\n",
    "        pad_y_top, pad_y_bot = (centro_y, filtro_linhas - centro_y - 1)\n",
    "        \n",
    "    # Criamos o padding na entrada\n",
    "    entradas = list(map(\n",
    "        lambda camada: np.pad(camada, ((pad_y_top, pad_y_bot), (pad_x_left, pad_x_right)), constant_values=(0,)),\n",
    "        entradas\n",
    "    ))\n",
    "    \n",
    "    # Função para cada camada\n",
    "    def aplicar_disseminacao(camada_in):\n",
    "        # Fazemos nova matriz para saída\n",
    "        camada_out = np.zeros(img_formato)\n",
    "        \n",
    "        # Iteramos em zigue-zague aplicando o filtro\n",
    "        iterator = ZigueZague(img_formato, filtro)\n",
    "        for (y, x), filtro_ in iterator:\n",
    "            # Corrigimos y, x para entrada\n",
    "            y_, x_ = (y + pad_y_top, x + pad_x_left)\n",
    "            \n",
    "            # Fazemos a binarização\n",
    "            camada_out[y][x] = 255 if camada_in[y_][x_] >= 128 else 0\n",
    "            \n",
    "            # Calculamos o erro para propagar\n",
    "            erro = camada_in[y_][x_] - camada_out[y][x]\n",
    "            \n",
    "            # Para cada posição, seccionamos a imagem do tamanho do filtro\n",
    "            secao = camada_in[(y_ - pad_y_top):(y_ + pad_y_bot + 1), (x_ - pad_x_left):(x_ + pad_x_right + 1)]\n",
    "            \n",
    "            # Propagamos o erro\n",
    "            secao += erro * filtro_\n",
    "            # Limitamos o intervalo\n",
    "            secao[secao > 255] = 255\n",
    "            secao[secao < 0] = 0 # zeramos negativos\n",
    "            #secao = np.absolute(secao) # refletimos para o positivo o que está negativo\n",
    "        \n",
    "        # Retornamos camada final\n",
    "        return camada_out\n",
    "    \n",
    "    # Aplica difusão de erro na camada enquanto a binariza\n",
    "    saidas = []\n",
    "    for camada in entradas:\n",
    "        saidas.append(aplicar_disseminacao(camada))\n",
    "    \n",
    "    # Salvamos a imagem final\n",
    "    finalizar(saidas)"
   ]
  },
  {
   "cell_type": "markdown",
   "metadata": {},
   "source": [
    "#### Filtro Floyd e Steinberg\n",
    "\n",
    "Definimos o filtro:\n",
    "```\n",
    "filtro = [[0, '*', 7/16],\n",
    "          [3/16, 5/16, 1/16]]\n",
    "```\n",
    "onde o asterisco é o centro e aplicamos às imagens."
   ]
  },
  {
   "cell_type": "code",
   "execution_count": 3,
   "metadata": {},
   "outputs": [
    {
     "name": "stdout",
     "output_type": "stream",
     "text": [
      "Tempo de execução: 833.96875 segundos\n"
     ]
    }
   ],
   "source": [
    "# Definimos o filtro\n",
    "filtro = ([[0, 0, 7/16],\n",
    "           [3/16, 5/16, 1/16]], (0, 1))\n",
    "\n",
    "start = time.process_time()\n",
    "aplicar_halftoning('imgs/mel.png', 'imgs/mel_binarizada-floyd_steinberg.png', filtro)\n",
    "end = time.process_time()\n",
    "print('Tempo de execução:', end - start, 'segundos')"
   ]
  },
  {
   "cell_type": "markdown",
   "metadata": {},
   "source": [
    "#### Filtro Stevenson e Arce\n",
    "\n",
    "Definimos o filtro:\n",
    "```\n",
    "filtro = [[0, 0, 0, '*', 0, 32/200, 0],\n",
    "          [12/200, 0, 26/200, 0, 30/200, 0, 16/200],\n",
    "          [0, 12/200, 0, 26/200, 0, 12/200, 0],\n",
    "          [5/200, 0, 12/200, 0, 12/200, 0, 5/200]]\n",
    "\n",
    "```\n",
    "onde o asterisco é o centro e aplicamos às imagens."
   ]
  },
  {
   "cell_type": "code",
   "execution_count": 4,
   "metadata": {},
   "outputs": [
    {
     "name": "stdout",
     "output_type": "stream",
     "text": [
      "Tempo de execução: 906.6875 segundos\n"
     ]
    }
   ],
   "source": [
    "# Definimos o filtro\n",
    "filtro = ([[0, 0, 0, 0, 0, 32/200, 0],\n",
    "           [12/200, 0, 26/200, 0, 30/200, 0, 16/200],\n",
    "           [0, 12/200, 0, 26/200, 0, 12/200, 0],\n",
    "           [5/200, 0, 12/200, 0, 12/200, 0, 5/200]], (0, 3))\n",
    "\n",
    "start = time.process_time()\n",
    "aplicar_halftoning('imgs/mel.png', 'imgs/mel_binarizada-stevenson_arce.png', filtro)\n",
    "end = time.process_time()\n",
    "print('Tempo de execução:', end - start, 'segundos')"
   ]
  },
  {
   "cell_type": "markdown",
   "metadata": {},
   "source": [
    "#### Filtro Burkes\n",
    "\n",
    "Definimos o filtro:\n",
    "```\n",
    "filtro = [[0, 0, '*', 8/32, 4/32],\n",
    "          [2/32, 4/32, 8/32, 4/32, 2/32]]\n",
    "```\n",
    "onde o asterisco é o centro e aplicamos às imagens."
   ]
  },
  {
   "cell_type": "code",
   "execution_count": 5,
   "metadata": {},
   "outputs": [
    {
     "name": "stdout",
     "output_type": "stream",
     "text": [
      "Tempo de execução: 903.25 segundos\n"
     ]
    }
   ],
   "source": [
    "# Definimos o filtro\n",
    "filtro = ([[0, 0, 0, 8/32, 4/32],\n",
    "           [2/32, 4/32, 8/32, 4/32, 2/32]], (0, 2))\n",
    "\n",
    "start = time.process_time()\n",
    "aplicar_halftoning('imgs/mel.png', 'imgs/mel_binarizada-burkes.png', filtro)\n",
    "end = time.process_time()\n",
    "print('Tempo de execução:', end - start, 'segundos')"
   ]
  },
  {
   "cell_type": "markdown",
   "metadata": {},
   "source": [
    "#### Filtro Sierra\n",
    "\n",
    "Definimos o filtro:\n",
    "```\n",
    "filtro = [[0, 0, '*', 5/32, 3/32],\n",
    "          [2/32, 4/32, 5/32, 4/32, 2/32],\n",
    "          [0, 2/32, 3/32, 2/32, 0]]\n",
    "```\n",
    "onde o asterisco é o centro e aplicamos às imagens."
   ]
  },
  {
   "cell_type": "code",
   "execution_count": 6,
   "metadata": {},
   "outputs": [
    {
     "name": "stdout",
     "output_type": "stream",
     "text": [
      "Tempo de execução: 891.265625 segundos\n"
     ]
    }
   ],
   "source": [
    "# Definimos o filtro\n",
    "filtro = ([[0, 0, 0, 5/32, 3/32],\n",
    "           [2/32, 4/32, 5/32, 4/32, 2/32],\n",
    "           [0, 2/32, 3/32, 2/32, 0]], (0, 2))\n",
    "\n",
    "start = time.process_time()\n",
    "aplicar_halftoning('imgs/mel.png', 'imgs/mel_binarizada-sierra.png', filtro)\n",
    "end = time.process_time()\n",
    "print('Tempo de execução:', end - start, 'segundos')"
   ]
  },
  {
   "cell_type": "markdown",
   "metadata": {},
   "source": [
    "#### Filtro Stucki\n",
    "\n",
    "Definimos o filtro:\n",
    "```\n",
    "filtro = [[0, 0, '*', 8/42, 4/42],\n",
    "          [2/42, 4/42, 8/42, 4/42, 2/42],\n",
    "          [1/42, 2/42, 4/42, 2/42, 1/42]]\n",
    "```\n",
    "onde o asterisco é o centro e aplicamos às imagens."
   ]
  },
  {
   "cell_type": "code",
   "execution_count": 7,
   "metadata": {},
   "outputs": [
    {
     "name": "stdout",
     "output_type": "stream",
     "text": [
      "Tempo de execução: 918.84375 segundos\n"
     ]
    }
   ],
   "source": [
    "# Definimos o filtro\n",
    "filtro = ([[0, 0, 0, 8/42, 4/42],\n",
    "           [2/42, 4/42, 8/42, 4/42, 2/42],\n",
    "           [1/42, 2/42, 4/42, 2/42, 1/42]], (0, 2))\n",
    "\n",
    "start = time.process_time()\n",
    "aplicar_halftoning('imgs/mel.png', 'imgs/mel_binarizada-stucki.png', filtro)\n",
    "end = time.process_time()\n",
    "print('Tempo de execução:', end - start, 'segundos')"
   ]
  },
  {
   "cell_type": "markdown",
   "metadata": {},
   "source": [
    "#### Filtro Jarvis, Judice e Ninke\n",
    "\n",
    "Definimos o filtro:\n",
    "```\n",
    "filtro = [[0, 0, '*', 8/42, 4/42],\n",
    "          [2/42, 4/42, 8/42, 4/42, 2/42],\n",
    "          [1/42, 2/42, 4/42, 2/42, 1/42]]\n",
    "```\n",
    "onde o asterisco é o centro e aplicamos às imagens."
   ]
  },
  {
   "cell_type": "code",
   "execution_count": 8,
   "metadata": {},
   "outputs": [
    {
     "name": "stdout",
     "output_type": "stream",
     "text": [
      "Tempo de execução: 908.359375 segundos\n"
     ]
    }
   ],
   "source": [
    "# Definimos o filtro, começando no próximo item em relação\n",
    "# ao próximo do que foi aplicado\n",
    "filtro = ([[0, 0, 0, 7/48, 5/48],\n",
    "           [3/48, 5/48, 7/48, 5/48, 3/48],\n",
    "           [1/48, 3/48, 5/48, 3/48, 1/48]], (0, 2))\n",
    "\n",
    "start = time.process_time()\n",
    "aplicar_halftoning('imgs/mel.png', 'imgs/mel_binarizada-jarvis_judice_ninke.png', filtro)\n",
    "end = time.process_time()\n",
    "print('Tempo de execução:', end - start, 'segundos')"
   ]
  },
  {
   "cell_type": "markdown",
   "metadata": {},
   "source": [
    "#### Selecionamos trechos de destaque\n",
    "\n",
    "Para produzirmos comparações interessantes no relatório, precisamos selecionar partes pequenas e na mesma posição entre várias imagens. Abriremos, então, várias imagens e salvamos um recorte em posição separada."
   ]
  },
  {
   "cell_type": "code",
   "execution_count": 9,
   "metadata": {},
   "outputs": [
    {
     "name": "stdout",
     "output_type": "stream",
     "text": [
      "imgs/mel-binarizada.png @ (1023, 2037) + (492, 492) -> imgs/mel-binarizada-detalhe1.png\n",
      "imgs/mel-binarizada.png @ (393, 1122) + (372, 372) -> imgs/mel-binarizada-detalhe2.png\n",
      "imgs/mel.png @ (1023, 2037) + (492, 492) -> imgs/mel-detalhe1.png\n",
      "imgs/mel.png @ (393, 1122) + (372, 372) -> imgs/mel-detalhe2.png\n",
      "imgs/mel_binarizada-burkes.png @ (1023, 2037) + (492, 492) -> imgs/mel_binarizada-burkes-detalhe1.png\n",
      "imgs/mel_binarizada-burkes.png @ (393, 1122) + (372, 372) -> imgs/mel_binarizada-burkes-detalhe2.png\n",
      "imgs/mel_binarizada-floyd_steinberg.png @ (1023, 2037) + (492, 492) -> imgs/mel_binarizada-floyd_steinberg-detalhe1.png\n",
      "imgs/mel_binarizada-floyd_steinberg.png @ (393, 1122) + (372, 372) -> imgs/mel_binarizada-floyd_steinberg-detalhe2.png\n",
      "imgs/mel_binarizada-jarvis_judice_ninke.png @ (1023, 2037) + (492, 492) -> imgs/mel_binarizada-jarvis_judice_ninke-detalhe1.png\n",
      "imgs/mel_binarizada-jarvis_judice_ninke.png @ (393, 1122) + (372, 372) -> imgs/mel_binarizada-jarvis_judice_ninke-detalhe2.png\n",
      "imgs/mel_binarizada-sierra.png @ (1023, 2037) + (492, 492) -> imgs/mel_binarizada-sierra-detalhe1.png\n",
      "imgs/mel_binarizada-sierra.png @ (393, 1122) + (372, 372) -> imgs/mel_binarizada-sierra-detalhe2.png\n",
      "imgs/mel_binarizada-stevenson_arce.png @ (1023, 2037) + (492, 492) -> imgs/mel_binarizada-stevenson_arce-detalhe1.png\n",
      "imgs/mel_binarizada-stevenson_arce.png @ (393, 1122) + (372, 372) -> imgs/mel_binarizada-stevenson_arce-detalhe2.png\n",
      "imgs/mel_binarizada-stucki.png @ (1023, 2037) + (492, 492) -> imgs/mel_binarizada-stucki-detalhe1.png\n",
      "imgs/mel_binarizada-stucki.png @ (393, 1122) + (372, 372) -> imgs/mel_binarizada-stucki-detalhe2.png\n"
     ]
    }
   ],
   "source": [
    "import glob # para abrir vários arquivos\n",
    "\n",
    "\n",
    "# Cortamos a imagem na posição (canto diagonal superior) + tamanho e salvamos\n",
    "# Posição, tamanho possuem formato (y, x)\n",
    "def crop(caminho_in, posicao, tamanho, caminho_out):\n",
    "    # Carregamos a imagem de entrada\n",
    "    entradas = abrir_imagem(arquivo)\n",
    "    \n",
    "    # Pegamos as coordenadas e tamanho\n",
    "    pos_y, pos_x = posicao\n",
    "    tam_y, tam_x = tamanho\n",
    "    \n",
    "    # Para cada camada...\n",
    "    saidas = []\n",
    "    for camada in entradas:\n",
    "        saidas.append(camada[pos_y:(pos_y + tam_y), pos_x:(pos_x + tam_x)])\n",
    "    \n",
    "    # Juntamos o canal em uma imagem\n",
    "    saida = cv2.merge(saidas)\n",
    "    # Salvamos a imagem final\n",
    "    salvar_imagem(caminho_out, saida)\n",
    "    \n",
    "\n",
    "# Pegamos todas as imagens PNG\n",
    "for arquivo in glob.glob('imgs/mel*.png'):\n",
    "    # Ignoramos arquivos que são detalhes (para não fazermos recursivamente)\n",
    "    if \"detalhe\" in arquivo:\n",
    "        continue\n",
    "    \n",
    "    # Fazemos diversos crops\n",
    "    for i, (posicao, tamanho) in enumerate([((1023, 2037), (492, 492)), ((393, 1122), (372, 372))]):\n",
    "        # Fazemos o crop e salvamos\n",
    "        arquivo_final = arquivo.replace('.png', '-detalhe{0}.png'.format(i + 1))\n",
    "        crop(arquivo, posicao, tamanho, arquivo_final)\n",
    "\n",
    "        # Anunciamos\n",
    "        print(arquivo, '@', posicao, '+', tamanho, '->', arquivo_final)"
   ]
  }
 ],
 "metadata": {
  "kernelspec": {
   "display_name": "Python 3",
   "language": "python",
   "name": "python3"
  },
  "language_info": {
   "codemirror_mode": {
    "name": "ipython",
    "version": 3
   },
   "file_extension": ".py",
   "mimetype": "text/x-python",
   "name": "python",
   "nbconvert_exporter": "python",
   "pygments_lexer": "ipython3",
   "version": "3.7.4"
  }
 },
 "nbformat": 4,
 "nbformat_minor": 2
}
